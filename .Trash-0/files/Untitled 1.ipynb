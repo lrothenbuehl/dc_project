{
 "cells": [
  {
   "cell_type": "code",
   "execution_count": null,
   "id": "799b628a-4181-4f81-b99c-79cf87edbee8",
   "metadata": {},
   "outputs": [],
   "source": []
  }
 ],
 "metadata": {
  "kernelspec": {
   "display_name": "",
   "name": ""
  },
  "language_info": {
   "name": ""
  }
 },
 "nbformat": 4,
 "nbformat_minor": 5
}
