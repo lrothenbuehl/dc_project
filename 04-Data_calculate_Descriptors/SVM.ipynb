{
 "cells": [
  {
   "cell_type": "code",
   "execution_count": 6,
   "id": "02720919-16ea-4152-bc91-ecce4ece6e75",
   "metadata": {},
   "outputs": [
    {
     "ename": "ModuleNotFoundError",
     "evalue": "No module named 'propy'",
     "output_type": "error",
     "traceback": [
      "\u001b[0;31m---------------------------------------------------------------------------\u001b[0m",
      "\u001b[0;31mModuleNotFoundError\u001b[0m                       Traceback (most recent call last)",
      "Cell \u001b[0;32mIn[6], line 3\u001b[0m\n\u001b[1;32m      1\u001b[0m \u001b[38;5;28;01mimport\u001b[39;00m \u001b[38;5;21;01msqlite3\u001b[39;00m\n\u001b[1;32m      2\u001b[0m \u001b[38;5;28;01mimport\u001b[39;00m \u001b[38;5;21;01mpandas\u001b[39;00m \u001b[38;5;28;01mas\u001b[39;00m \u001b[38;5;21;01mpd\u001b[39;00m\n\u001b[0;32m----> 3\u001b[0m \u001b[38;5;28;01mfrom\u001b[39;00m \u001b[38;5;21;01mpropy\u001b[39;00m \u001b[38;5;28;01mimport\u001b[39;00m PyPro\n\u001b[1;32m      4\u001b[0m con \u001b[38;5;241m=\u001b[39m sqlite3\u001b[38;5;241m.\u001b[39mconnect(\u001b[38;5;124m\"\u001b[39m\u001b[38;5;124m../unified_CD2.db\u001b[39m\u001b[38;5;124m\"\u001b[39m)\n\u001b[1;32m      5\u001b[0m cur \u001b[38;5;241m=\u001b[39m con\u001b[38;5;241m.\u001b[39mcursor()\n",
      "\u001b[0;31mModuleNotFoundError\u001b[0m: No module named 'propy'"
     ]
    }
   ],
   "source": [
    "import sqlite3\n",
    "import pandas as pd\n",
    "from propy import PyPro\n",
    "con = sqlite3.connect(\"../unified_CD2.db\")\n",
    "cur = con.cursor()\n",
    "\n",
    "df = pd.read_sql_query(\"SELECT * FROM prod_desc\", con)\n",
    "df[\"AB\"] = df[\"AB\"].apply(lambda x:int.from_bytes(x,\"little\"))\n",
    "df = df[[\"seq\", \"AB\"]]\n"
   ]
  },
  {
   "cell_type": "code",
   "execution_count": 3,
   "id": "094fcc56-3a3c-40f6-9ae5-bccbfd3443b1",
   "metadata": {},
   "outputs": [
    {
     "ename": "ModuleNotFoundError",
     "evalue": "No module named 'propy'",
     "output_type": "error",
     "traceback": [
      "\u001b[0;31m---------------------------------------------------------------------------\u001b[0m",
      "\u001b[0;31mModuleNotFoundError\u001b[0m                       Traceback (most recent call last)",
      "Cell \u001b[0;32mIn[3], line 2\u001b[0m\n\u001b[1;32m      1\u001b[0m \u001b[38;5;28;01mimport\u001b[39;00m \u001b[38;5;21;01mpandas\u001b[39;00m \u001b[38;5;28;01mas\u001b[39;00m \u001b[38;5;21;01mpd\u001b[39;00m\n\u001b[0;32m----> 2\u001b[0m \u001b[38;5;28;01mfrom\u001b[39;00m \u001b[38;5;21;01mpropy\u001b[39;00m \u001b[38;5;28;01mimport\u001b[39;00m PyPro\n\u001b[1;32m      3\u001b[0m \u001b[38;5;28;01mfrom\u001b[39;00m \u001b[38;5;21;01mBio\u001b[39;00m\u001b[38;5;21;01m.\u001b[39;00m\u001b[38;5;21;01mSeqUtils\u001b[39;00m\u001b[38;5;21;01m.\u001b[39;00m\u001b[38;5;21;01mProtParam\u001b[39;00m \u001b[38;5;28;01mimport\u001b[39;00m ProteinAnalysis\n\u001b[1;32m      6\u001b[0m start_time \u001b[38;5;241m=\u001b[39m time\u001b[38;5;241m.\u001b[39mtime()\n",
      "\u001b[0;31mModuleNotFoundError\u001b[0m: No module named 'propy'"
     ]
    }
   ],
   "source": [
    "import pandas as pd\n",
    "from propy import PyPro\n",
    "from Bio.SeqUtils.ProtParam import ProteinAnalysis\n",
    "\n",
    "\n",
    "start_time = time.time()\n",
    "# Function to extract all features\n",
    "def extract_all_features(peptide):\n",
    "    try:\n",
    "        # Check if the peptide sequence is empty\n",
    "        if not peptide:\n",
    "            return None\n",
    "        \n",
    "        pro = PyPro.GetProDes(peptide)\n",
    "        \n",
    "        features = []\n",
    "        \n",
    "        # Amino acid composition\n",
    "        features += list(pro.GetAAComp().values())\n",
    "        \n",
    "        # Dipeptide composition\n",
    "        features += list(pro.GetDPComp().values())\n",
    "        \n",
    "        # Tripeptide composition\n",
    "        features += list(pro.GetTPComp().values())\n",
    "        \n",
    "        # Moreau-Broto autocorrelation descriptors\n",
    "        features += list(pro.GetMoreauBrotoAuto().values())\n",
    "        \n",
    "        # Moran autocorrelation descriptors\n",
    "        features += list(pro.GetMoranAuto().values())\n",
    "        \n",
    "        # Geary autocorrelation descriptors\n",
    "        features += list(pro.GetGearyAuto().values())\n",
    "        \n",
    "        # Quasi-sequence order descriptors\n",
    "        features += list(pro.GetQSO().values()) \n",
    "        \n",
    "        \n",
    "        return features\n",
    "    \n",
    "    except ZeroDivisionError:\n",
    "        # Handle division by zero gracefully\n",
    "        print(f\"Error processing sequence {peptide}: Division by zero\")\n",
    "        return None\n",
    "    except AttributeError:\n",
    "        # Handle attribute error gracefully\n",
    "        print(f\"Error processing sequence {peptide}: Empty sequence\")\n",
    "        return None\n",
    "    except Exception as e:\n",
    "        # Handle other exceptions gracefully\n",
    "        print(f\"Error processing sequence {peptide}: {e}\")\n",
    "        return None\n",
    "\n",
    "# Apply function to each peptide sequence\n",
    "df['Features'] = df['seq'].apply(extract_all_features)\n",
    "\n",
    "# Filter out sequences where feature extraction failed\n",
    "df_filtered = df.dropna()\n",
    "\n",
    "# Expand features into separate columns\n",
    "df_features = pd.DataFrame(df_filtered['Features'].tolist())\n",
    "\n",
    "# Concatenate original dataframe with features\n",
    "df_final = pd.concat([df_filtered.drop(columns=['Features']), df_features], axis=1)\n",
    "\n",
    "df_final\n",
    "\n",
    "# Calculate the total time taken\n",
    "total_time = time.time() - start_time\n",
    "print(f\"Total time taken: {total_time} seconds\")\n",
    "print(df_final)"
   ]
  },
  {
   "cell_type": "code",
   "execution_count": null,
   "id": "f71ae19f-ba1e-434a-b544-ea0c64b9d5f0",
   "metadata": {},
   "outputs": [],
   "source": []
  },
  {
   "cell_type": "code",
   "execution_count": null,
   "id": "3b4bd68b-19d4-44ec-8dbe-b362133a1d80",
   "metadata": {},
   "outputs": [],
   "source": []
  },
  {
   "cell_type": "code",
   "execution_count": null,
   "id": "e2f29842-bb93-4fa7-b743-3c0bbc319ee3",
   "metadata": {},
   "outputs": [],
   "source": []
  },
  {
   "cell_type": "code",
   "execution_count": null,
   "id": "bc90bdbf-876d-437f-8857-a6a10de55d37",
   "metadata": {},
   "outputs": [],
   "source": [
    "\n"
   ]
  },
  {
   "cell_type": "code",
   "execution_count": null,
   "id": "8eba2c5a-4fc9-4b46-9ed1-bb93e375f354",
   "metadata": {},
   "outputs": [],
   "source": []
  },
  {
   "cell_type": "code",
   "execution_count": null,
   "id": "2e2b8150-9a98-4a83-a067-76486a6cc3bf",
   "metadata": {},
   "outputs": [],
   "source": []
  },
  {
   "cell_type": "code",
   "execution_count": 33,
   "id": "28b3e962-828e-415f-9314-c7dd1545c5f7",
   "metadata": {},
   "outputs": [],
   "source": [
    "\n"
   ]
  },
  {
   "cell_type": "code",
   "execution_count": null,
   "id": "8cc2cd0c-a680-4b61-b54d-62ef4334576a",
   "metadata": {},
   "outputs": [],
   "source": []
  },
  {
   "cell_type": "code",
   "execution_count": null,
   "id": "7ffebbf6-4ade-4ac4-a222-7330349a0c16",
   "metadata": {},
   "outputs": [],
   "source": []
  },
  {
   "cell_type": "code",
   "execution_count": null,
   "id": "743c1a5c-5b96-4e50-bbb9-09ab8b09cf61",
   "metadata": {},
   "outputs": [],
   "source": []
  },
  {
   "cell_type": "code",
   "execution_count": 7,
   "id": "61105cb0-956e-4400-97a4-c63dec723319",
   "metadata": {},
   "outputs": [],
   "source": [
    "\n"
   ]
  },
  {
   "cell_type": "code",
   "execution_count": null,
   "id": "ffebdf95-5cde-49bc-a50b-9dc0b5fca4ac",
   "metadata": {},
   "outputs": [],
   "source": []
  },
  {
   "cell_type": "code",
   "execution_count": null,
   "id": "0f57b053-6421-4c9c-b247-0172f1e98838",
   "metadata": {},
   "outputs": [],
   "source": []
  }
 ],
 "metadata": {
  "kernelspec": {
   "display_name": "Python 3 (ipykernel)",
   "language": "python",
   "name": "python3"
  },
  "language_info": {
   "codemirror_mode": {
    "name": "ipython",
    "version": 3
   },
   "file_extension": ".py",
   "mimetype": "text/x-python",
   "name": "python",
   "nbconvert_exporter": "python",
   "pygments_lexer": "ipython3",
   "version": "3.11.9"
  }
 },
 "nbformat": 4,
 "nbformat_minor": 5
}
